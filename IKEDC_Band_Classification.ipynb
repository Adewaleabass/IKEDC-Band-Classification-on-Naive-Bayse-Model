{
  "cells": [
    {
      "cell_type": "markdown",
      "metadata": {
        "id": "WOw8yMd1VlnD"
      },
      "source": [
        "##Naive Bayse Model for IKEDC Band Classification\n"
      ]
    },
    {
      "cell_type": "markdown",
      "metadata": {
        "id": "NvUGC8QQV6bV"
      },
      "source": [
        "## Importing the libraries"
      ]
    },
    {
      "cell_type": "code",
      "execution_count": 1,
      "metadata": {
        "id": "wfFEXZC0WS-V"
      },
      "outputs": [],
      "source": [
        "import numpy as np\n",
        "import matplotlib.pyplot as plt\n",
        "import pandas as pd"
      ]
    },
    {
      "cell_type": "markdown",
      "metadata": {
        "id": "fhYaZ-ENV_c5"
      },
      "source": [
        "## Importing the dataset"
      ]
    },
    {
      "cell_type": "code",
      "source": [
        "dataset = pd.read_csv('ikedc_band_cat_dataset.csv')\n",
        "X = dataset.iloc[:, 1:-1].values\n",
        "y = dataset.iloc[:, -1].values"
      ],
      "metadata": {
        "id": "2shB4CQQV6Mg"
      },
      "execution_count": 4,
      "outputs": []
    },
    {
      "cell_type": "code",
      "source": [
        "print(X)"
      ],
      "metadata": {
        "colab": {
          "base_uri": "https://localhost:8080/"
        },
        "id": "9Mw5I6MJ9nGn",
        "outputId": "7cf6f8e5-f26f-49da-f5ce-75d5a9e250b3"
      },
      "execution_count": 5,
      "outputs": [
        {
          "output_type": "stream",
          "name": "stdout",
          "text": [
            "[[18  1  1  0]\n",
            " [20  0  1  1]\n",
            " [22  1  0  1]\n",
            " [16  1  0  0]\n",
            " [19  0  1  0]\n",
            " [21  1  1  1]\n",
            " [17  1  0  1]\n",
            " [23  0  1  0]\n",
            " [15  1  1  1]\n",
            " [18  1  0  1]\n",
            " [20  0  1  0]\n",
            " [22  1  0  1]\n",
            " [16  1  0  0]\n",
            " [19  0  1  1]\n",
            " [21  1  1  0]\n",
            " [17  1  0  0]\n",
            " [23  0  1  1]\n",
            " [15  1  1  0]\n",
            " [18  1  0  1]\n",
            " [20  0  1  0]\n",
            " [22  1  0  1]\n",
            " [16  1  0  0]\n",
            " [19  0  1  1]\n",
            " [21  1  1  1]\n",
            " [17  1  0  0]\n",
            " [23  0  1  1]\n",
            " [15  1  1  0]\n",
            " [18  1  0  1]\n",
            " [20  0  1  0]\n",
            " [22  1  0  1]\n",
            " [16  1  0  0]\n",
            " [19  0  1  1]\n",
            " [21  1  1  1]\n",
            " [17  1  0  0]\n",
            " [23  0  1  1]\n",
            " [15  1  1  0]\n",
            " [18  1  0  1]\n",
            " [20  0  1  0]\n",
            " [22  1  0  1]\n",
            " [16  1  0  0]\n",
            " [19  0  1  1]\n",
            " [21  1  1  1]\n",
            " [17  1  0  0]\n",
            " [23  0  1  1]\n",
            " [15  1  1  0]\n",
            " [18  1  0  1]\n",
            " [20  0  1  0]\n",
            " [22  1  0  1]\n",
            " [16  1  0  0]\n",
            " [19  0  1  1]\n",
            " [21  1  1  1]\n",
            " [17  1  0  0]\n",
            " [23  0  1  1]\n",
            " [15  1  1  0]\n",
            " [18  1  0  1]\n",
            " [20  0  1  0]\n",
            " [22  1  0  1]\n",
            " [16  1  0  0]\n",
            " [19  0  1  1]\n",
            " [21  1  1  1]\n",
            " [17  1  0  0]\n",
            " [23  0  1  1]\n",
            " [15  1  1  0]\n",
            " [18  1  0  1]\n",
            " [20  0  1  0]\n",
            " [22  1  0  1]\n",
            " [16  1  0  0]\n",
            " [19  0  1  1]\n",
            " [21  1  1  1]\n",
            " [17  1  0  0]\n",
            " [23  0  1  1]\n",
            " [15  1  1  0]\n",
            " [18  1  0  1]\n",
            " [20  0  1  0]\n",
            " [22  1  0  1]\n",
            " [16  1  0  0]\n",
            " [19  0  1  1]\n",
            " [21  1  1  1]\n",
            " [17  1  0  0]\n",
            " [23  0  1  1]\n",
            " [15  1  1  0]\n",
            " [18  1  0  1]\n",
            " [20  0  1  0]\n",
            " [22  1  0  1]\n",
            " [16  1  0  0]\n",
            " [19  0  1  1]\n",
            " [21  1  1  1]\n",
            " [17  1  0  0]\n",
            " [23  0  1  1]\n",
            " [15  1  1  0]\n",
            " [18  1  0  1]\n",
            " [20  0  1  0]\n",
            " [22  1  0  1]\n",
            " [16  1  0  0]\n",
            " [19  0  1  1]\n",
            " [21  1  1  1]\n",
            " [17  1  0  0]\n",
            " [23  0  1  1]\n",
            " [15  1  1  0]\n",
            " [18  1  0  1]\n",
            " [20  0  1  0]\n",
            " [22  1  0  1]\n",
            " [16  1  0  0]\n",
            " [19  0  1  1]\n",
            " [21  1  1  1]\n",
            " [17  1  0  0]\n",
            " [23  0  1  1]\n",
            " [15  1  1  0]\n",
            " [18  1  0  1]\n",
            " [20  0  1  0]\n",
            " [22  1  0  1]\n",
            " [16  1  0  0]\n",
            " [19  0  1  1]\n",
            " [21  1  1  1]\n",
            " [17  1  0  0]\n",
            " [23  0  1  1]\n",
            " [15  1  1  0]\n",
            " [18  1  0  1]\n",
            " [20  0  1  0]\n",
            " [22  1  0  1]\n",
            " [16  1  0  0]\n",
            " [19  0  1  1]\n",
            " [21  1  1  1]\n",
            " [17  1  0  0]\n",
            " [23  0  1  1]\n",
            " [15  1  1  0]\n",
            " [18  1  0  1]\n",
            " [20  0  1  0]\n",
            " [22  1  0  1]\n",
            " [16  1  0  0]\n",
            " [19  0  1  1]\n",
            " [21  1  1  1]\n",
            " [17  1  0  0]\n",
            " [23  0  1  1]\n",
            " [15  1  1  0]\n",
            " [18  1  0  1]\n",
            " [20  0  1  0]\n",
            " [22  1  0  1]\n",
            " [16  1  0  0]\n",
            " [19  0  1  1]\n",
            " [21  1  1  1]\n",
            " [17  1  0  0]\n",
            " [23  0  1  1]\n",
            " [15  1  1  0]\n",
            " [18  1  0  1]\n",
            " [20  0  1  0]\n",
            " [22  1  0  1]\n",
            " [16  1  0  0]\n",
            " [19  0  1  1]\n",
            " [21  1  1  1]\n",
            " [17  1  0  0]\n",
            " [23  0  1  1]\n",
            " [15  1  1  0]\n",
            " [18  1  0  1]\n",
            " [20  0  1  0]\n",
            " [22  1  0  1]\n",
            " [16  1  0  0]\n",
            " [19  0  1  1]\n",
            " [21  1  1  1]\n",
            " [17  1  0  0]\n",
            " [23  0  1  1]\n",
            " [15  1  1  0]\n",
            " [18  1  0  1]\n",
            " [20  0  1  0]\n",
            " [22  1  0  1]\n",
            " [16  1  0  0]\n",
            " [19  0  1  1]\n",
            " [21  1  1  1]\n",
            " [17  1  0  0]\n",
            " [23  0  1  1]\n",
            " [15  1  1  0]\n",
            " [18  1  0  1]\n",
            " [20  0  1  0]\n",
            " [22  1  0  1]\n",
            " [16  1  0  0]\n",
            " [19  0  1  1]\n",
            " [21  1  1  1]\n",
            " [17  1  0  0]\n",
            " [23  0  1  1]\n",
            " [15  1  1  0]\n",
            " [18  1  0  1]\n",
            " [20  0  1  0]\n",
            " [22  1  0  1]\n",
            " [16  1  0  0]\n",
            " [19  0  1  1]\n",
            " [21  1  1  1]\n",
            " [17  1  0  0]\n",
            " [23  0  1  1]\n",
            " [15  1  1  0]\n",
            " [18  1  0  1]\n",
            " [20  0  1  0]\n",
            " [22  1  0  1]\n",
            " [16  1  0  0]\n",
            " [19  0  1  1]\n",
            " [21  1  1  1]\n",
            " [17  1  0  0]\n",
            " [23  0  1  1]\n",
            " [15  1  1  0]\n",
            " [18  1  0  1]\n",
            " [20  0  1  0]]\n"
          ]
        }
      ]
    },
    {
      "cell_type": "code",
      "source": [
        "print(y)"
      ],
      "metadata": {
        "colab": {
          "base_uri": "https://localhost:8080/"
        },
        "id": "OprV2SLA9tNZ",
        "outputId": "382f6361-80fe-488d-c441-5c31ebeab57f"
      },
      "execution_count": 6,
      "outputs": [
        {
          "output_type": "stream",
          "name": "stdout",
          "text": [
            "['E' 'A' 'A' 'E' 'E' 'A' 'E' 'A' 'E' 'E' 'A' 'A' 'E' 'E' 'A' 'E' 'A' 'E'\n",
            " 'E' 'A' 'A' 'E' 'E' 'A' 'E' 'A' 'E' 'E' 'A' 'A' 'E' 'E' 'A' 'E' 'A' 'E'\n",
            " 'E' 'A' 'A' 'E' 'E' 'A' 'E' 'A' 'E' 'E' 'A' 'A' 'E' 'E' 'A' 'E' 'A' 'E'\n",
            " 'E' 'A' 'A' 'E' 'E' 'A' 'E' 'A' 'E' 'E' 'A' 'A' 'E' 'E' 'A' 'E' 'A' 'E'\n",
            " 'E' 'A' 'A' 'E' 'E' 'A' 'E' 'A' 'E' 'E' 'A' 'A' 'E' 'E' 'A' 'E' 'A' 'E'\n",
            " 'E' 'A' 'A' 'E' 'E' 'A' 'E' 'A' 'E' 'E' 'A' 'A' 'E' 'E' 'A' 'E' 'A' 'E'\n",
            " 'E' 'A' 'A' 'E' 'E' 'A' 'E' 'A' 'E' 'E' 'A' 'A' 'E' 'E' 'A' 'E' 'A' 'E'\n",
            " 'E' 'A' 'A' 'E' 'E' 'A' 'E' 'A' 'E' 'E' 'A' 'A' 'E' 'E' 'A' 'E' 'A' 'E'\n",
            " 'E' 'A' 'A' 'E' 'E' 'A' 'E' 'A' 'E' 'E' 'A' 'A' 'E' 'E' 'A' 'E' 'A' 'E'\n",
            " 'E' 'A' 'A' 'E' 'E' 'A' 'E' 'A' 'E' 'E' 'A' 'A' 'E' 'E' 'A' 'E' 'A' 'E'\n",
            " 'E' 'A' 'A' 'E' 'E' 'A' 'E' 'A' 'E' 'E' 'A' 'A' 'E' 'E' 'A' 'E' 'A' 'E'\n",
            " 'E' 'A']\n"
          ]
        }
      ]
    },
    {
      "cell_type": "markdown",
      "source": [
        "##Encoding Categorical data"
      ],
      "metadata": {
        "id": "_Ryb0EIv-r73"
      }
    },
    {
      "cell_type": "code",
      "source": [
        "from sklearn.preprocessing import LabelEncoder\n",
        "le = LabelEncoder()\n",
        "y = le.fit_transform(y)"
      ],
      "metadata": {
        "id": "kSsw0aP5-w8y"
      },
      "execution_count": 7,
      "outputs": []
    },
    {
      "cell_type": "code",
      "source": [
        "print(y)"
      ],
      "metadata": {
        "colab": {
          "base_uri": "https://localhost:8080/"
        },
        "id": "V9iU1pfD-0_4",
        "outputId": "a6b46eac-a137-4541-8d80-da384d687f6e"
      },
      "execution_count": 8,
      "outputs": [
        {
          "output_type": "stream",
          "name": "stdout",
          "text": [
            "[1 0 0 1 1 0 1 0 1 1 0 0 1 1 0 1 0 1 1 0 0 1 1 0 1 0 1 1 0 0 1 1 0 1 0 1 1\n",
            " 0 0 1 1 0 1 0 1 1 0 0 1 1 0 1 0 1 1 0 0 1 1 0 1 0 1 1 0 0 1 1 0 1 0 1 1 0\n",
            " 0 1 1 0 1 0 1 1 0 0 1 1 0 1 0 1 1 0 0 1 1 0 1 0 1 1 0 0 1 1 0 1 0 1 1 0 0\n",
            " 1 1 0 1 0 1 1 0 0 1 1 0 1 0 1 1 0 0 1 1 0 1 0 1 1 0 0 1 1 0 1 0 1 1 0 0 1\n",
            " 1 0 1 0 1 1 0 0 1 1 0 1 0 1 1 0 0 1 1 0 1 0 1 1 0 0 1 1 0 1 0 1 1 0 0 1 1\n",
            " 0 1 0 1 1 0 0 1 1 0 1 0 1 1 0]\n"
          ]
        }
      ]
    },
    {
      "cell_type": "markdown",
      "source": [
        "### Splitting the dataset into the Training set and Test set"
      ],
      "metadata": {
        "id": "PYbxYMazRJdS"
      }
    },
    {
      "cell_type": "code",
      "source": [
        "from sklearn.model_selection import train_test_split\n",
        "X_train, X_test, y_train, y_test = train_test_split(X, y, test_size = 0.2, random_state = 0)"
      ],
      "metadata": {
        "id": "49TiGzw2a0P8"
      },
      "execution_count": 9,
      "outputs": []
    },
    {
      "cell_type": "code",
      "source": [
        "print(X_train)"
      ],
      "metadata": {
        "colab": {
          "base_uri": "https://localhost:8080/"
        },
        "id": "GQ_wrG1M_LAl",
        "outputId": "8c3a8902-62d3-4538-e4f1-3306347b1978"
      },
      "execution_count": 10,
      "outputs": [
        {
          "output_type": "stream",
          "name": "stdout",
          "text": [
            "[[15  1  1  0]\n",
            " [16  1  0  0]\n",
            " [15  1  1  0]\n",
            " [21  1  1  1]\n",
            " [17  1  0  0]\n",
            " [18  1  0  1]\n",
            " [15  1  1  1]\n",
            " [16  1  0  0]\n",
            " [20  0  1  0]\n",
            " [15  1  1  0]\n",
            " [15  1  1  0]\n",
            " [23  0  1  1]\n",
            " [19  0  1  1]\n",
            " [23  0  1  1]\n",
            " [21  1  1  1]\n",
            " [17  1  0  0]\n",
            " [16  1  0  0]\n",
            " [23  0  1  1]\n",
            " [19  0  1  1]\n",
            " [22  1  0  1]\n",
            " [21  1  1  1]\n",
            " [17  1  0  0]\n",
            " [20  0  1  0]\n",
            " [20  0  1  0]\n",
            " [18  1  0  1]\n",
            " [22  1  0  1]\n",
            " [18  1  0  1]\n",
            " [20  0  1  0]\n",
            " [17  1  0  0]\n",
            " [21  1  1  1]\n",
            " [19  0  1  1]\n",
            " [18  1  0  1]\n",
            " [22  1  0  1]\n",
            " [22  1  0  1]\n",
            " [18  1  0  1]\n",
            " [15  1  1  0]\n",
            " [20  0  1  0]\n",
            " [21  1  1  0]\n",
            " [18  1  0  1]\n",
            " [17  1  0  0]\n",
            " [23  0  1  1]\n",
            " [20  0  1  0]\n",
            " [16  1  0  0]\n",
            " [17  1  0  0]\n",
            " [18  1  0  1]\n",
            " [15  1  1  0]\n",
            " [22  1  0  1]\n",
            " [21  1  1  1]\n",
            " [20  0  1  0]\n",
            " [15  1  1  0]\n",
            " [23  0  1  1]\n",
            " [20  0  1  0]\n",
            " [21  1  1  1]\n",
            " [20  0  1  0]\n",
            " [23  0  1  1]\n",
            " [23  0  1  1]\n",
            " [19  0  1  1]\n",
            " [18  1  0  1]\n",
            " [16  1  0  0]\n",
            " [19  0  1  1]\n",
            " [21  1  1  1]\n",
            " [22  1  0  1]\n",
            " [21  1  1  1]\n",
            " [18  1  1  0]\n",
            " [19  0  1  1]\n",
            " [22  1  0  1]\n",
            " [21  1  1  1]\n",
            " [20  0  1  0]\n",
            " [21  1  1  1]\n",
            " [21  1  1  1]\n",
            " [17  1  0  0]\n",
            " [19  0  1  1]\n",
            " [16  1  0  0]\n",
            " [19  0  1  1]\n",
            " [19  0  1  1]\n",
            " [15  1  1  0]\n",
            " [21  1  1  1]\n",
            " [17  1  0  0]\n",
            " [18  1  0  1]\n",
            " [22  1  0  1]\n",
            " [17  1  0  0]\n",
            " [17  1  0  0]\n",
            " [21  1  1  1]\n",
            " [23  0  1  1]\n",
            " [20  0  1  0]\n",
            " [19  0  1  1]\n",
            " [16  1  0  0]\n",
            " [15  1  1  0]\n",
            " [22  1  0  1]\n",
            " [18  1  0  1]\n",
            " [17  1  0  1]\n",
            " [21  1  1  1]\n",
            " [16  1  0  0]\n",
            " [19  0  1  1]\n",
            " [22  1  0  1]\n",
            " [18  1  0  1]\n",
            " [16  1  0  0]\n",
            " [20  0  1  0]\n",
            " [20  0  1  0]\n",
            " [22  1  0  1]\n",
            " [22  1  0  1]\n",
            " [16  1  0  0]\n",
            " [15  1  1  0]\n",
            " [16  1  0  0]\n",
            " [22  1  0  1]\n",
            " [20  0  1  1]\n",
            " [16  1  0  0]\n",
            " [18  1  0  1]\n",
            " [17  1  0  0]\n",
            " [17  1  0  0]\n",
            " [17  1  0  0]\n",
            " [22  1  0  1]\n",
            " [15  1  1  0]\n",
            " [22  1  0  1]\n",
            " [23  0  1  1]\n",
            " [15  1  1  0]\n",
            " [19  0  1  1]\n",
            " [22  1  0  1]\n",
            " [23  0  1  1]\n",
            " [20  0  1  0]\n",
            " [17  1  0  0]\n",
            " [23  0  1  1]\n",
            " [19  0  1  1]\n",
            " [19  0  1  1]\n",
            " [20  0  1  0]\n",
            " [21  1  1  1]\n",
            " [21  1  1  1]\n",
            " [23  0  1  1]\n",
            " [23  0  1  1]\n",
            " [16  1  0  0]\n",
            " [22  1  0  1]\n",
            " [18  1  0  1]\n",
            " [20  0  1  0]\n",
            " [23  0  1  1]\n",
            " [23  0  1  1]\n",
            " [19  0  1  1]\n",
            " [19  0  1  1]\n",
            " [18  1  0  1]\n",
            " [21  1  1  1]\n",
            " [23  0  1  1]\n",
            " [16  1  0  0]\n",
            " [18  1  0  1]\n",
            " [15  1  1  0]\n",
            " [16  1  0  0]\n",
            " [20  0  1  0]\n",
            " [16  1  0  0]\n",
            " [19  0  1  1]\n",
            " [21  1  1  1]\n",
            " [23  0  1  1]\n",
            " [23  0  1  1]\n",
            " [17  1  0  0]\n",
            " [18  1  0  1]\n",
            " [16  1  0  0]\n",
            " [18  1  0  1]\n",
            " [19  0  1  1]\n",
            " [19  0  1  1]\n",
            " [16  1  0  0]\n",
            " [18  1  0  1]\n",
            " [22  1  0  1]\n",
            " [20  0  1  0]]\n"
          ]
        }
      ]
    },
    {
      "cell_type": "code",
      "source": [
        "print(X_test)"
      ],
      "metadata": {
        "colab": {
          "base_uri": "https://localhost:8080/"
        },
        "id": "5kD4lQn0_Kv8",
        "outputId": "9ff69ef0-c0a7-4057-8d09-f906fde298e0"
      },
      "execution_count": 11,
      "outputs": [
        {
          "output_type": "stream",
          "name": "stdout",
          "text": [
            "[[18  1  0  1]\n",
            " [15  1  1  0]\n",
            " [15  1  1  0]\n",
            " [15  1  1  0]\n",
            " [17  1  0  0]\n",
            " [22  1  0  1]\n",
            " [21  1  1  1]\n",
            " [22  1  0  1]\n",
            " [16  1  0  0]\n",
            " [15  1  1  0]\n",
            " [23  0  1  1]\n",
            " [15  1  1  0]\n",
            " [18  1  0  1]\n",
            " [20  0  1  0]\n",
            " [15  1  1  0]\n",
            " [23  0  1  0]\n",
            " [17  1  0  0]\n",
            " [19  0  1  1]\n",
            " [20  0  1  0]\n",
            " [22  1  0  1]\n",
            " [16  1  0  0]\n",
            " [20  0  1  0]\n",
            " [18  1  0  1]\n",
            " [17  1  0  0]\n",
            " [17  1  0  0]\n",
            " [17  1  0  0]\n",
            " [15  1  1  0]\n",
            " [21  1  1  1]\n",
            " [21  1  1  1]\n",
            " [15  1  1  0]\n",
            " [23  0  1  1]\n",
            " [20  0  1  0]\n",
            " [17  1  0  0]\n",
            " [16  1  0  0]\n",
            " [19  0  1  1]\n",
            " [18  1  0  1]\n",
            " [16  1  0  0]\n",
            " [19  0  1  0]\n",
            " [22  1  0  1]\n",
            " [23  0  1  1]]\n"
          ]
        }
      ]
    },
    {
      "cell_type": "code",
      "source": [
        "print(y_train)"
      ],
      "metadata": {
        "colab": {
          "base_uri": "https://localhost:8080/"
        },
        "id": "zq9Li1H__R2G",
        "outputId": "f209b6cd-2ca4-4c79-cc3e-8664b791e97c"
      },
      "execution_count": 12,
      "outputs": [
        {
          "output_type": "stream",
          "name": "stdout",
          "text": [
            "[1 1 1 0 1 1 1 1 0 1 1 0 1 0 0 1 1 0 1 0 0 1 0 0 1 0 1 0 1 0 1 1 0 0 1 1 0\n",
            " 0 1 1 0 0 1 1 1 1 0 0 0 1 0 0 0 0 0 0 1 1 1 1 0 0 0 1 1 0 0 0 0 0 1 1 1 1\n",
            " 1 1 0 1 1 0 1 1 0 0 0 1 1 1 0 1 1 0 1 1 0 1 1 0 0 0 0 1 1 1 0 0 1 1 1 1 1\n",
            " 0 1 0 0 1 1 0 0 0 1 0 1 1 0 0 0 0 0 1 0 1 0 0 0 1 1 1 0 0 1 1 1 1 0 1 1 0\n",
            " 0 0 1 1 1 1 1 1 1 1 0 0]\n"
          ]
        }
      ]
    },
    {
      "cell_type": "code",
      "source": [
        "print(y_test)"
      ],
      "metadata": {
        "colab": {
          "base_uri": "https://localhost:8080/"
        },
        "id": "aQ6j1CBW_RjC",
        "outputId": "f994e3d3-fbb4-43cd-e004-959687d20774"
      },
      "execution_count": 13,
      "outputs": [
        {
          "output_type": "stream",
          "name": "stdout",
          "text": [
            "[1 1 1 1 1 0 0 0 1 1 0 1 1 0 1 0 1 1 0 0 1 0 1 1 1 1 1 0 0 1 0 0 1 1 1 1 1\n",
            " 1 0 0]\n"
          ]
        }
      ]
    },
    {
      "cell_type": "markdown",
      "source": [
        "##Feature scaling"
      ],
      "metadata": {
        "id": "6cjVN5f6_qYx"
      }
    },
    {
      "cell_type": "code",
      "source": [
        "from sklearn.preprocessing import StandardScaler\n",
        "sc = StandardScaler()\n",
        "X_train[:, 0:] = sc.fit_transform(X_train[:, 0:])\n",
        "X_test[:, 0:] = sc.transform(X_test[:, 0:])"
      ],
      "metadata": {
        "id": "dU0Kw-c8_uW0"
      },
      "execution_count": 22,
      "outputs": []
    },
    {
      "cell_type": "code",
      "source": [
        "print(X_train)"
      ],
      "metadata": {
        "colab": {
          "base_uri": "https://localhost:8080/"
        },
        "id": "lHneBMvHDTxu",
        "outputId": "accaffdd-a7db-41be-deb9-e7809df37702"
      },
      "execution_count": 23,
      "outputs": [
        {
          "output_type": "stream",
          "name": "stdout",
          "text": [
            "[[-1  0  0 -1]\n",
            " [-1  0 -1 -1]\n",
            " [-1  0  0 -1]\n",
            " [ 0  0  0  0]\n",
            " [ 0  0 -1 -1]\n",
            " [ 0  0 -1  0]\n",
            " [-1  0  0  0]\n",
            " [-1  0 -1 -1]\n",
            " [ 0 -1  0 -1]\n",
            " [-1  0  0 -1]\n",
            " [-1  0  0 -1]\n",
            " [ 1 -1  0  0]\n",
            " [ 0 -1  0  0]\n",
            " [ 1 -1  0  0]\n",
            " [ 0  0  0  0]\n",
            " [ 0  0 -1 -1]\n",
            " [-1  0 -1 -1]\n",
            " [ 1 -1  0  0]\n",
            " [ 0 -1  0  0]\n",
            " [ 1  0 -1  0]\n",
            " [ 0  0  0  0]\n",
            " [ 0  0 -1 -1]\n",
            " [ 0 -1  0 -1]\n",
            " [ 0 -1  0 -1]\n",
            " [ 0  0 -1  0]\n",
            " [ 1  0 -1  0]\n",
            " [ 0  0 -1  0]\n",
            " [ 0 -1  0 -1]\n",
            " [ 0  0 -1 -1]\n",
            " [ 0  0  0  0]\n",
            " [ 0 -1  0  0]\n",
            " [ 0  0 -1  0]\n",
            " [ 1  0 -1  0]\n",
            " [ 1  0 -1  0]\n",
            " [ 0  0 -1  0]\n",
            " [-1  0  0 -1]\n",
            " [ 0 -1  0 -1]\n",
            " [ 0  0  0 -1]\n",
            " [ 0  0 -1  0]\n",
            " [ 0  0 -1 -1]\n",
            " [ 1 -1  0  0]\n",
            " [ 0 -1  0 -1]\n",
            " [-1  0 -1 -1]\n",
            " [ 0  0 -1 -1]\n",
            " [ 0  0 -1  0]\n",
            " [-1  0  0 -1]\n",
            " [ 1  0 -1  0]\n",
            " [ 0  0  0  0]\n",
            " [ 0 -1  0 -1]\n",
            " [-1  0  0 -1]\n",
            " [ 1 -1  0  0]\n",
            " [ 0 -1  0 -1]\n",
            " [ 0  0  0  0]\n",
            " [ 0 -1  0 -1]\n",
            " [ 1 -1  0  0]\n",
            " [ 1 -1  0  0]\n",
            " [ 0 -1  0  0]\n",
            " [ 0  0 -1  0]\n",
            " [-1  0 -1 -1]\n",
            " [ 0 -1  0  0]\n",
            " [ 0  0  0  0]\n",
            " [ 1  0 -1  0]\n",
            " [ 0  0  0  0]\n",
            " [ 0  0  0 -1]\n",
            " [ 0 -1  0  0]\n",
            " [ 1  0 -1  0]\n",
            " [ 0  0  0  0]\n",
            " [ 0 -1  0 -1]\n",
            " [ 0  0  0  0]\n",
            " [ 0  0  0  0]\n",
            " [ 0  0 -1 -1]\n",
            " [ 0 -1  0  0]\n",
            " [-1  0 -1 -1]\n",
            " [ 0 -1  0  0]\n",
            " [ 0 -1  0  0]\n",
            " [-1  0  0 -1]\n",
            " [ 0  0  0  0]\n",
            " [ 0  0 -1 -1]\n",
            " [ 0  0 -1  0]\n",
            " [ 1  0 -1  0]\n",
            " [ 0  0 -1 -1]\n",
            " [ 0  0 -1 -1]\n",
            " [ 0  0  0  0]\n",
            " [ 1 -1  0  0]\n",
            " [ 0 -1  0 -1]\n",
            " [ 0 -1  0  0]\n",
            " [-1  0 -1 -1]\n",
            " [-1  0  0 -1]\n",
            " [ 1  0 -1  0]\n",
            " [ 0  0 -1  0]\n",
            " [ 0  0 -1  0]\n",
            " [ 0  0  0  0]\n",
            " [-1  0 -1 -1]\n",
            " [ 0 -1  0  0]\n",
            " [ 1  0 -1  0]\n",
            " [ 0  0 -1  0]\n",
            " [-1  0 -1 -1]\n",
            " [ 0 -1  0 -1]\n",
            " [ 0 -1  0 -1]\n",
            " [ 1  0 -1  0]\n",
            " [ 1  0 -1  0]\n",
            " [-1  0 -1 -1]\n",
            " [-1  0  0 -1]\n",
            " [-1  0 -1 -1]\n",
            " [ 1  0 -1  0]\n",
            " [ 0 -1  0  0]\n",
            " [-1  0 -1 -1]\n",
            " [ 0  0 -1  0]\n",
            " [ 0  0 -1 -1]\n",
            " [ 0  0 -1 -1]\n",
            " [ 0  0 -1 -1]\n",
            " [ 1  0 -1  0]\n",
            " [-1  0  0 -1]\n",
            " [ 1  0 -1  0]\n",
            " [ 1 -1  0  0]\n",
            " [-1  0  0 -1]\n",
            " [ 0 -1  0  0]\n",
            " [ 1  0 -1  0]\n",
            " [ 1 -1  0  0]\n",
            " [ 0 -1  0 -1]\n",
            " [ 0  0 -1 -1]\n",
            " [ 1 -1  0  0]\n",
            " [ 0 -1  0  0]\n",
            " [ 0 -1  0  0]\n",
            " [ 0 -1  0 -1]\n",
            " [ 0  0  0  0]\n",
            " [ 0  0  0  0]\n",
            " [ 1 -1  0  0]\n",
            " [ 1 -1  0  0]\n",
            " [-1  0 -1 -1]\n",
            " [ 1  0 -1  0]\n",
            " [ 0  0 -1  0]\n",
            " [ 0 -1  0 -1]\n",
            " [ 1 -1  0  0]\n",
            " [ 1 -1  0  0]\n",
            " [ 0 -1  0  0]\n",
            " [ 0 -1  0  0]\n",
            " [ 0  0 -1  0]\n",
            " [ 0  0  0  0]\n",
            " [ 1 -1  0  0]\n",
            " [-1  0 -1 -1]\n",
            " [ 0  0 -1  0]\n",
            " [-1  0  0 -1]\n",
            " [-1  0 -1 -1]\n",
            " [ 0 -1  0 -1]\n",
            " [-1  0 -1 -1]\n",
            " [ 0 -1  0  0]\n",
            " [ 0  0  0  0]\n",
            " [ 1 -1  0  0]\n",
            " [ 1 -1  0  0]\n",
            " [ 0  0 -1 -1]\n",
            " [ 0  0 -1  0]\n",
            " [-1  0 -1 -1]\n",
            " [ 0  0 -1  0]\n",
            " [ 0 -1  0  0]\n",
            " [ 0 -1  0  0]\n",
            " [-1  0 -1 -1]\n",
            " [ 0  0 -1  0]\n",
            " [ 1  0 -1  0]\n",
            " [ 0 -1  0 -1]]\n"
          ]
        }
      ]
    },
    {
      "cell_type": "code",
      "source": [
        "print(X_test)"
      ],
      "metadata": {
        "colab": {
          "base_uri": "https://localhost:8080/"
        },
        "id": "X56zXYVUDXYj",
        "outputId": "1ad54d2e-2f17-4ba3-d5c7-12487a0a7bdf"
      },
      "execution_count": 24,
      "outputs": [
        {
          "output_type": "stream",
          "name": "stdout",
          "text": [
            "[[ 0  0 -1  0]\n",
            " [-1  0  0 -1]\n",
            " [-1  0  0 -1]\n",
            " [-1  0  0 -1]\n",
            " [ 0  0 -1 -1]\n",
            " [ 1  0 -1  0]\n",
            " [ 0  0  0  0]\n",
            " [ 1  0 -1  0]\n",
            " [-1  0 -1 -1]\n",
            " [-1  0  0 -1]\n",
            " [ 1 -1  0  0]\n",
            " [-1  0  0 -1]\n",
            " [ 0  0 -1  0]\n",
            " [ 0 -1  0 -1]\n",
            " [-1  0  0 -1]\n",
            " [ 1 -1  0 -1]\n",
            " [ 0  0 -1 -1]\n",
            " [ 0 -1  0  0]\n",
            " [ 0 -1  0 -1]\n",
            " [ 1  0 -1  0]\n",
            " [-1  0 -1 -1]\n",
            " [ 0 -1  0 -1]\n",
            " [ 0  0 -1  0]\n",
            " [ 0  0 -1 -1]\n",
            " [ 0  0 -1 -1]\n",
            " [ 0  0 -1 -1]\n",
            " [-1  0  0 -1]\n",
            " [ 0  0  0  0]\n",
            " [ 0  0  0  0]\n",
            " [-1  0  0 -1]\n",
            " [ 1 -1  0  0]\n",
            " [ 0 -1  0 -1]\n",
            " [ 0  0 -1 -1]\n",
            " [-1  0 -1 -1]\n",
            " [ 0 -1  0  0]\n",
            " [ 0  0 -1  0]\n",
            " [-1  0 -1 -1]\n",
            " [ 0 -1  0 -1]\n",
            " [ 1  0 -1  0]\n",
            " [ 1 -1  0  0]]\n"
          ]
        }
      ]
    },
    {
      "cell_type": "markdown",
      "source": [
        "## Training the Naive Bayes Model on the Training Set"
      ],
      "metadata": {
        "id": "idKx_nlYR8ac"
      }
    },
    {
      "cell_type": "code",
      "source": [
        "from sklearn.naive_bayes import GaussianNB\n",
        "classifier = GaussianNB()\n",
        "classifier.fit(X_train, y_train)"
      ],
      "metadata": {
        "id": "-Dr7IRIDg6zf",
        "colab": {
          "base_uri": "https://localhost:8080/",
          "height": 75
        },
        "outputId": "943c7e0e-c967-4eae-83c1-78d501683644"
      },
      "execution_count": 25,
      "outputs": [
        {
          "output_type": "execute_result",
          "data": {
            "text/plain": [
              "GaussianNB()"
            ],
            "text/html": [
              "<style>#sk-container-id-2 {color: black;background-color: white;}#sk-container-id-2 pre{padding: 0;}#sk-container-id-2 div.sk-toggleable {background-color: white;}#sk-container-id-2 label.sk-toggleable__label {cursor: pointer;display: block;width: 100%;margin-bottom: 0;padding: 0.3em;box-sizing: border-box;text-align: center;}#sk-container-id-2 label.sk-toggleable__label-arrow:before {content: \"▸\";float: left;margin-right: 0.25em;color: #696969;}#sk-container-id-2 label.sk-toggleable__label-arrow:hover:before {color: black;}#sk-container-id-2 div.sk-estimator:hover label.sk-toggleable__label-arrow:before {color: black;}#sk-container-id-2 div.sk-toggleable__content {max-height: 0;max-width: 0;overflow: hidden;text-align: left;background-color: #f0f8ff;}#sk-container-id-2 div.sk-toggleable__content pre {margin: 0.2em;color: black;border-radius: 0.25em;background-color: #f0f8ff;}#sk-container-id-2 input.sk-toggleable__control:checked~div.sk-toggleable__content {max-height: 200px;max-width: 100%;overflow: auto;}#sk-container-id-2 input.sk-toggleable__control:checked~label.sk-toggleable__label-arrow:before {content: \"▾\";}#sk-container-id-2 div.sk-estimator input.sk-toggleable__control:checked~label.sk-toggleable__label {background-color: #d4ebff;}#sk-container-id-2 div.sk-label input.sk-toggleable__control:checked~label.sk-toggleable__label {background-color: #d4ebff;}#sk-container-id-2 input.sk-hidden--visually {border: 0;clip: rect(1px 1px 1px 1px);clip: rect(1px, 1px, 1px, 1px);height: 1px;margin: -1px;overflow: hidden;padding: 0;position: absolute;width: 1px;}#sk-container-id-2 div.sk-estimator {font-family: monospace;background-color: #f0f8ff;border: 1px dotted black;border-radius: 0.25em;box-sizing: border-box;margin-bottom: 0.5em;}#sk-container-id-2 div.sk-estimator:hover {background-color: #d4ebff;}#sk-container-id-2 div.sk-parallel-item::after {content: \"\";width: 100%;border-bottom: 1px solid gray;flex-grow: 1;}#sk-container-id-2 div.sk-label:hover label.sk-toggleable__label {background-color: #d4ebff;}#sk-container-id-2 div.sk-serial::before {content: \"\";position: absolute;border-left: 1px solid gray;box-sizing: border-box;top: 0;bottom: 0;left: 50%;z-index: 0;}#sk-container-id-2 div.sk-serial {display: flex;flex-direction: column;align-items: center;background-color: white;padding-right: 0.2em;padding-left: 0.2em;position: relative;}#sk-container-id-2 div.sk-item {position: relative;z-index: 1;}#sk-container-id-2 div.sk-parallel {display: flex;align-items: stretch;justify-content: center;background-color: white;position: relative;}#sk-container-id-2 div.sk-item::before, #sk-container-id-2 div.sk-parallel-item::before {content: \"\";position: absolute;border-left: 1px solid gray;box-sizing: border-box;top: 0;bottom: 0;left: 50%;z-index: -1;}#sk-container-id-2 div.sk-parallel-item {display: flex;flex-direction: column;z-index: 1;position: relative;background-color: white;}#sk-container-id-2 div.sk-parallel-item:first-child::after {align-self: flex-end;width: 50%;}#sk-container-id-2 div.sk-parallel-item:last-child::after {align-self: flex-start;width: 50%;}#sk-container-id-2 div.sk-parallel-item:only-child::after {width: 0;}#sk-container-id-2 div.sk-dashed-wrapped {border: 1px dashed gray;margin: 0 0.4em 0.5em 0.4em;box-sizing: border-box;padding-bottom: 0.4em;background-color: white;}#sk-container-id-2 div.sk-label label {font-family: monospace;font-weight: bold;display: inline-block;line-height: 1.2em;}#sk-container-id-2 div.sk-label-container {text-align: center;}#sk-container-id-2 div.sk-container {/* jupyter's `normalize.less` sets `[hidden] { display: none; }` but bootstrap.min.css set `[hidden] { display: none !important; }` so we also need the `!important` here to be able to override the default hidden behavior on the sphinx rendered scikit-learn.org. See: https://github.com/scikit-learn/scikit-learn/issues/21755 */display: inline-block !important;position: relative;}#sk-container-id-2 div.sk-text-repr-fallback {display: none;}</style><div id=\"sk-container-id-2\" class=\"sk-top-container\"><div class=\"sk-text-repr-fallback\"><pre>GaussianNB()</pre><b>In a Jupyter environment, please rerun this cell to show the HTML representation or trust the notebook. <br />On GitHub, the HTML representation is unable to render, please try loading this page with nbviewer.org.</b></div><div class=\"sk-container\" hidden><div class=\"sk-item\"><div class=\"sk-estimator sk-toggleable\"><input class=\"sk-toggleable__control sk-hidden--visually\" id=\"sk-estimator-id-2\" type=\"checkbox\" checked><label for=\"sk-estimator-id-2\" class=\"sk-toggleable__label sk-toggleable__label-arrow\">GaussianNB</label><div class=\"sk-toggleable__content\"><pre>GaussianNB()</pre></div></div></div></div></div>"
            ]
          },
          "metadata": {},
          "execution_count": 25
        }
      ]
    },
    {
      "cell_type": "markdown",
      "source": [
        "##Predicting a New Result"
      ],
      "metadata": {
        "id": "ZURKplosE8XX"
      }
    },
    {
      "cell_type": "code",
      "source": [
        "print(classifier.predict(sc.transform([[22, 1, 0, 1]])))"
      ],
      "metadata": {
        "colab": {
          "base_uri": "https://localhost:8080/"
        },
        "id": "JINe6AyJFAe1",
        "outputId": "87c07e33-46a2-4c45-9c2e-2f3b6e683501"
      },
      "execution_count": 26,
      "outputs": [
        {
          "output_type": "stream",
          "name": "stdout",
          "text": [
            "[0]\n"
          ]
        }
      ]
    },
    {
      "cell_type": "markdown",
      "source": [
        "##Predicting the Test Results"
      ],
      "metadata": {
        "id": "TKamX7VFH-Bv"
      }
    },
    {
      "cell_type": "code",
      "source": [
        "y_pred = classifier.predict(X_test)\n",
        "print(np.concatenate((y_pred.reshape(len(y_pred),1), y_test.reshape(len(y_test),1)),1))"
      ],
      "metadata": {
        "colab": {
          "base_uri": "https://localhost:8080/"
        },
        "id": "bMTAgVRiIA-s",
        "outputId": "3f203ada-aa0c-41ff-c664-237cefabf21b"
      },
      "execution_count": 27,
      "outputs": [
        {
          "output_type": "stream",
          "name": "stdout",
          "text": [
            "[[1 1]\n",
            " [1 1]\n",
            " [1 1]\n",
            " [1 1]\n",
            " [1 1]\n",
            " [0 0]\n",
            " [0 0]\n",
            " [0 0]\n",
            " [1 1]\n",
            " [1 1]\n",
            " [0 0]\n",
            " [1 1]\n",
            " [1 1]\n",
            " [0 0]\n",
            " [1 1]\n",
            " [0 0]\n",
            " [1 1]\n",
            " [0 1]\n",
            " [0 0]\n",
            " [0 0]\n",
            " [1 1]\n",
            " [0 0]\n",
            " [1 1]\n",
            " [1 1]\n",
            " [1 1]\n",
            " [1 1]\n",
            " [1 1]\n",
            " [0 0]\n",
            " [0 0]\n",
            " [1 1]\n",
            " [0 0]\n",
            " [0 0]\n",
            " [1 1]\n",
            " [1 1]\n",
            " [0 1]\n",
            " [1 1]\n",
            " [1 1]\n",
            " [0 1]\n",
            " [0 0]\n",
            " [0 0]]\n"
          ]
        }
      ]
    },
    {
      "cell_type": "markdown",
      "source": [
        "### Making the Confusion Matrix"
      ],
      "metadata": {
        "id": "fzJBO_1gSuLj"
      }
    },
    {
      "cell_type": "code",
      "source": [
        "from sklearn.metrics import confusion_matrix, accuracy_score\n",
        "cm = confusion_matrix(y_test, y_pred)\n",
        "print(cm)\n",
        "accuracy_score(y_test, y_pred)"
      ],
      "metadata": {
        "colab": {
          "base_uri": "https://localhost:8080/"
        },
        "id": "keNt_E039Dn3",
        "outputId": "7ffa28ae-9e51-4eb3-cbc2-06d94335da5f"
      },
      "execution_count": 28,
      "outputs": [
        {
          "output_type": "stream",
          "name": "stdout",
          "text": [
            "[[15  0]\n",
            " [ 3 22]]\n"
          ]
        },
        {
          "output_type": "execute_result",
          "data": {
            "text/plain": [
              "0.925"
            ]
          },
          "metadata": {},
          "execution_count": 28
        }
      ]
    },
    {
      "cell_type": "markdown",
      "source": [
        "##Visualising the Training Set Results"
      ],
      "metadata": {
        "id": "8Tn18k_2IepO"
      }
    },
    {
      "cell_type": "code",
      "source": [
        "feature1 = 0  # Index of the first feature to visualize\n",
        "feature2 = 1  # Index of the second feature to visualize\n",
        "X_set, y_set = X_train[:, [feature1, feature2]], y_train\n",
        "X1, X2 = np.meshgrid(np.arange(start=X_set[:, 0].min() - 10, stop=X_set[:, 0].max() + 10, step=0.25),\n",
        "                     np.arange(start=X_set[:, 1].min() - 1000, stop=X_set[:, 1].max() + 1000, step=0.25))\n",
        "sc_new = StandardScaler()\n",
        "X1_scaled = sc_new.fit_transform(X1.reshape(-1, 1))  # Pre-compute scaled values\n",
        "X2_scaled = sc_new.transform(X2.reshape(-1, 1))\n",
        "\n",
        "# Reshape the input data to include all 4 features used during training\n",
        "Z = classifier.predict(np.array([X1.ravel(), X2.ravel(), np.zeros_like(X1.ravel()), np.zeros_like(X2.ravel())]).T).reshape(X1.shape)\n",
        "# The added np.zeros_like() create arrays of zeros with the same shape as X1 and X2 to represent the missing features.\n",
        "# You might need to adjust how you handle these missing features depending on your specific use case.\n",
        "\n",
        "plt.contourf(X1, X2, Z, alpha=0.75, cmap=ListedColormap(('red', 'green')))\n",
        "plt.xlim(X1.min(), X1.max())\n",
        "plt.ylim(X2.min(), X2.max())\n",
        "for i, j in enumerate(np.unique(y_set)):\n",
        "    plt.scatter(X_set[y_set == j, 0], X_set[y_set == j, 1], c=ListedColormap(('red', 'green'))(i), label=j)\n",
        "plt.title('Naive Bayes (Training set)')\n",
        "plt.xlabel('Feature 1')\n",
        "plt.ylabel('Feature 2')\n",
        "plt.legend()\n",
        "plt.show()"
      ],
      "metadata": {
        "colab": {
          "base_uri": "https://localhost:8080/",
          "height": 527
        },
        "id": "fDYxyCbRUANK",
        "outputId": "74e874cc-a19b-476a-b9a7-6ea9535f9892"
      },
      "execution_count": 39,
      "outputs": [
        {
          "output_type": "stream",
          "name": "stderr",
          "text": [
            "<ipython-input-39-a2d8c9f9da02>:19: UserWarning: *c* argument looks like a single numeric RGB or RGBA sequence, which should be avoided as value-mapping will have precedence in case its length matches with *x* & *y*.  Please use the *color* keyword-argument or provide a 2D array with a single row if you intend to specify the same RGB or RGBA value for all points.\n",
            "  plt.scatter(X_set[y_set == j, 0], X_set[y_set == j, 1], c=ListedColormap(('red', 'green'))(i), label=j)\n"
          ]
        },
        {
          "output_type": "display_data",
          "data": {
            "text/plain": [
              "<Figure size 640x480 with 1 Axes>"
            ],
            "image/png": "[encoded data removed]"
          },
          "metadata": {}
        }
      ]
    },
    {
      "cell_type": "markdown",
      "source": [
        "##Visualising Test Set Results"
      ],
      "metadata": {
        "id": "ZDlgFxrpY-Ld"
      }
    },
    {
      "cell_type": "code",
      "source": [
        "feature1 = 0  # Index of the first feature to visualize\n",
        "feature2 = 1  # Index of the second feature to visualize\n",
        "X_set, y_set = X_train[:, [feature1, feature2]], y_train\n",
        "X1, X2 = np.meshgrid(np.arange(start=X_set[:, 0].min() - 10, stop=X_set[:, 0].max() + 10, step=0.25),\n",
        "                     np.arange(start=X_set[:, 1].min() - 1000, stop=X_set[:, 1].max() + 1000, step=0.25))\n",
        "sc_new = StandardScaler()\n",
        "X1_scaled = sc_new.fit_transform(X1.reshape(-1, 1))  # Pre-compute scaled values\n",
        "X2_scaled = sc_new.transform(X2.reshape(-1, 1))\n",
        "\n",
        "# Reshape the input data to include all 4 features used during training\n",
        "Z = classifier.predict(np.array([X1.ravel(), X2.ravel(), np.zeros_like(X1.ravel()), np.zeros_like(X2.ravel())]).T).reshape(X1.shape)\n",
        "# The added np.zeros_like() create arrays of zeros with the same shape as X1 and X2 to represent the missing features.\n",
        "# You might need to adjust how you handle these missing features depending on your specific use case.\n",
        "\n",
        "plt.contourf(X1, X2, Z, alpha=0.75, cmap=ListedColormap(('red', 'green')))\n",
        "plt.xlim(X1.min(), X1.max())\n",
        "plt.ylim(X2.min(), X2.max())\n",
        "for i, j in enumerate(np.unique(y_set)):\n",
        "    plt.scatter(X_set[y_set == j, 0], X_set[y_set == j, 1], c=ListedColormap(('red', 'green'))(i), label=j)\n",
        "plt.title('Naive Bayes (Test set)')\n",
        "plt.xlabel('Feature 1')\n",
        "plt.ylabel('Feature 2')\n",
        "plt.legend()\n",
        "plt.show()"
      ],
      "metadata": {
        "colab": {
          "base_uri": "https://localhost:8080/",
          "height": 527
        },
        "id": "BhO-FfGhY_FO",
        "outputId": "6502880a-b8b6-456a-8363-644829136416"
      },
      "execution_count": 40,
      "outputs": [
        {
          "output_type": "stream",
          "name": "stderr",
          "text": [
            "<ipython-input-40-6e9f305c1692>:19: UserWarning: *c* argument looks like a single numeric RGB or RGBA sequence, which should be avoided as value-mapping will have precedence in case its length matches with *x* & *y*.  Please use the *color* keyword-argument or provide a 2D array with a single row if you intend to specify the same RGB or RGBA value for all points.\n",
            "  plt.scatter(X_set[y_set == j, 0], X_set[y_set == j, 1], c=ListedColormap(('red', 'green'))(i), label=j)\n"
          ]
        },
        {
          "output_type": "display_data",
          "data": {
            "text/plain": [
              "<Figure size 640x480 with 1 Axes>"
            ],
            "image/png": "[encoded data removed]"
          },
          "metadata": {}
        }
      ]
    },
    {
      "cell_type": "markdown",
      "source": [
        "## Applying k-Fold Cross Validation"
      ],
      "metadata": {
        "id": "WODEG7EkjZ_y"
      }
    },
    {
      "cell_type": "code",
      "source": [
        "from sklearn.model_selection import cross_val_score\n",
        "accuracies = cross_val_score(estimator = classifier, X = X_train, y = y_train, cv = 10)\n",
        "print(\"Accuracy: {:.2f} %\".format(accuracies.mean()*100))\n",
        "print(\"Standard Deviation: {:.2f} %\".format(accuracies.std()*100))"
      ],
      "metadata": {
        "colab": {
          "base_uri": "https://localhost:8080/"
        },
        "id": "vZ6AZhkZjbIv",
        "outputId": "8dd45df1-7e07-4702-af94-e61cb651fa50"
      },
      "execution_count": 41,
      "outputs": [
        {
          "output_type": "stream",
          "name": "stdout",
          "text": [
            "Accuracy: 87.50 %\n",
            "Standard Deviation: 8.84 %\n"
          ]
        }
      ]
    }
  ],
  "metadata": {
    "colab": {
      "provenance": [],
      "toc_visible": true
    },
    "kernelspec": {
      "display_name": "Python 3",
      "name": "python3"
    }
  },
  "nbformat": 4,
  "nbformat_minor": 0
}